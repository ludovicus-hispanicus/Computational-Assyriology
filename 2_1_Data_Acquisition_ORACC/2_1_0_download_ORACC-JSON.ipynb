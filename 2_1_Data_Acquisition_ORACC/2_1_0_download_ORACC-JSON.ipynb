{
 "cells": [
  {
   "cell_type": "markdown",
   "id": "43f80229-9c9a-4933-b679-4cb895db38b5",
   "metadata": {},
   "source": [
    "# Download ORACC JSON Files\n",
    "This script downloads open data from the Open Richly Annotated Cuneiform Corpus ([ORACC](http://oracc.org)) in `json` format. The JSON files are made available in a ZIP file. For a description of the various JSON files included in the ZIP see the [open data](http://oracc.org/doc/opendata) page on [ORACC](http://oracc.org). \n",
    "\n",
    "The code in this notebook is also available in the module `utils` in the directory `utils` and can be called as follows: \n",
    "```python\n",
    "import os\n",
    "import sys\n",
    "util_dir = os.path.abspath('../utils') # When necessary, adapt the path to the utils directory.\n",
    "sys.path.append(util_dir)\n",
    "import utils\n",
    "directories = [\"jsonzip\"]\n",
    "os.makedirs(\"jsonzip\", exist_ok = True)\n",
    "projects = [\"dcclt\", \"saao/saa01\"] # or any list of ORACC projects\n",
    "utils.oracc_download(projects)\n",
    "```"
   ]
  },
  {
   "cell_type": "markdown",
   "id": "8eb821d1-0d3f-40de-b4a6-309eacb1b301",
   "metadata": {},
   "source": [
    "# 0. Import Packages"
   ]
  },
  {
   "cell_type": "code",
   "execution_count": 5,
   "id": "48b273e0-9d22-4da8-b841-39c5227c9eb1",
   "metadata": {},
   "outputs": [],
   "source": [
    "import requests\n",
    "from tqdm.notebook import tqdm\n",
    "import os"
   ]
  },
  {
   "cell_type": "markdown",
   "id": "963acf9f-bb7d-4c5b-b5cf-02154b95aa97",
   "metadata": {},
   "source": [
    "# 1. Create Download Directory\n",
    "Create a directory called `jsonzip`. If the directory already exists, do nothing."
   ]
  },
  {
   "cell_type": "code",
   "execution_count": 6,
   "id": "61763644-10b2-4b89-ab51-2ce1f3d2c731",
   "metadata": {},
   "outputs": [],
   "source": [
    "os.makedirs(\"jsonzip\", exist_ok = True)"
   ]
  },
  {
   "cell_type": "markdown",
   "id": "d4512f50-35d2-427a-878a-58973b198deb",
   "metadata": {},
   "source": [
    "# 2.1 Input a List of Project Abbreviations\n",
    "Enter one or more project abbreviations to download their JSON zip files. The project names are separated by commas. Note that the subprojects must be given explicitly, they are not automatically included in the main project. For instance: \n",
    "* saao/saa01, aemw/alalakh/idrimi, rimanum"
   ]
  },
  {
   "cell_type": "code",
   "execution_count": 7,
   "id": "052c70f7-9500-4ac0-945a-1d41c2d1c564",
   "metadata": {},
   "outputs": [
    {
     "name": "stdin",
     "output_type": "stream",
     "text": [
      "Project(s):  obmc\n"
     ]
    }
   ],
   "source": [
    "projects = input('Project(s): ').lower().strip() # lowercase user input and strip accidental spaces"
   ]
  },
  {
   "cell_type": "markdown",
   "id": "3e58cc02-2cb0-4b50-9515-f6b0a8d61ca1",
   "metadata": {},
   "source": [
    "# 2.2 Split the List of Projects\n",
    "Split the list of projects and create a list of project names."
   ]
  },
  {
   "cell_type": "code",
   "execution_count": 8,
   "id": "11394971-67d9-4328-8e62-d4f5910dfa78",
   "metadata": {},
   "outputs": [],
   "source": [
    "project_list = projects.split(',')   # split at each comma and make a list called `p`\n",
    "project_list = [project.strip() for project in project_list]        # strip spaces left and right of each entry"
   ]
  },
  {
   "cell_type": "markdown",
   "id": "7d7ed4d1-c190-4619-b4ef-f3eee05e4671",
   "metadata": {},
   "source": [
    "## Download the ZIP files\n",
    "For each project from which files are to be processed download the entire project (all the json files) from `http://oracc.museum.upenn.edu/PROJECT/json/`. The file is called `PROJECT.zip` (for instance: `dcclt.zip`). For subprojects the file is called `PROJECT-SUBPROJECT.zip` (for instance `cams-gkab.zip`). \n",
    "\n",
    "For larger projects (such as [DCCLT](http://oracc.org/dcclt)) the `zip` file may be 25Mb or more. Downloading may take some time and it may be necessary to chunk the downloading process. The `iter_content()` function in the `requests` library takes care of that.\n",
    "\n",
    "This code is also available as the function `oracc_download()` in the module `utils/utils.py`, which is used by some of the other scripts in Compass. The function `oracc_download()` takes a list of projects as its only argument (e.g. `['dcclt', 'hbtin', 'saao/saa01']` and will download those, omitting duplicates and invalid project names.\n",
    "\n",
    "[ORACC](http://oracc.org) JSON files may be downloaded from three different servers: the build server at Penn, the public [ORACC](http://oracc.org) server and the server at [LMU](http://oracc.ub.uni-muenchen.de/) (Munich). The current code will only check the build server and may therefore not work with projects maintained at [LMU](http://oracc.ub.uni-muenchen.de/). The `oracc_download()` function in `utils` will check all three servers, in the order build, penn, lmu.\n",
    "\n",
    "In order to show a progress bar (with `tqdm`) we need to know how large the file to be downloaded is (this value is is then fed to the `total` parameter). The http protocol provides a key `content-length` in the headers (a dictionary). Not all servers provide this field, therefore it is accessed with the `get()` function, which allows for a fall-back value in case a key is not found. This fall-back value is 0. With the `total` value of 0 `tqdm` will show a bar and will count the number of chunks received, but it will not indicate the degree of progress."
   ]
  },
  {
   "cell_type": "code",
   "execution_count": 9,
   "id": "61c2a960-bf6c-47b5-aa7a-fb17e6f89478",
   "metadata": {},
   "outputs": [
    {
     "name": "stdout",
     "output_type": "stream",
     "text": [
      "Saving http://build-oracc.museum.upenn.edu/json/obmc.zip as jsonzip/obmc.zip\n"
     ]
    },
    {
     "data": {
      "application/vnd.jupyter.widget-view+json": {
       "model_id": "47dd76e8ef6842d0aefa6c44297babe8",
       "version_major": 2,
       "version_minor": 0
      },
      "text/plain": [
       "obmc:   0%|          | 0.00/2.63M [00:00<?, ?B/s]"
      ]
     },
     "metadata": {},
     "output_type": "display_data"
    }
   ],
   "source": [
    "CHUNK = 1024\n",
    "for project in project_list:\n",
    "    proj = project.replace('/', '-')\n",
    "    url = f\"http://build-oracc.museum.upenn.edu/json/{proj}.zip\"\n",
    "    file = f'jsonzip/{proj}.zip'\n",
    "    with requests.get(url, stream=True) as r:\n",
    "        if r.status_code == 200:\n",
    "            total_size = int(r.headers.get('content-length', 0))\n",
    "            tqdm.write(f'Saving {url} as {file}')\n",
    "            t=tqdm(total=total_size, unit='B', unit_scale=True, desc = project)\n",
    "            with open(file, 'wb') as f:\n",
    "                for c in r.iter_content(chunk_size=CHUNK):\n",
    "                    t.update(len(c))\n",
    "                    f.write(c)\n",
    "        else:\n",
    "            tqdm.write(f\"WARNING: {url} does not exist.\")"
   ]
  },
  {
   "cell_type": "code",
   "execution_count": null,
   "id": "7af1ce15-3e5a-475c-b4dd-3758b753c253",
   "metadata": {},
   "outputs": [],
   "source": []
  }
 ],
 "metadata": {
  "kernelspec": {
   "display_name": "Python 3",
   "language": "python",
   "name": "python3"
  },
  "language_info": {
   "codemirror_mode": {
    "name": "ipython",
    "version": 3
   },
   "file_extension": ".py",
   "mimetype": "text/x-python",
   "name": "python",
   "nbconvert_exporter": "python",
   "pygments_lexer": "ipython3",
   "version": "3.8.8"
  }
 },
 "nbformat": 4,
 "nbformat_minor": 5
}
