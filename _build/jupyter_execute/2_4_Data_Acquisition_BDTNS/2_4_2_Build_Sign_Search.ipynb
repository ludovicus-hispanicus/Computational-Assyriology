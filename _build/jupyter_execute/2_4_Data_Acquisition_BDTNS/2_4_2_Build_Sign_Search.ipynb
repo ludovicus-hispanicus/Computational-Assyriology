{
 "cells": [
  {
   "cell_type": "markdown",
   "metadata": {},
   "source": [
    "(2.4.2)=\n",
    "# 2.4.2 Build Sign Search for BDTNS\n",
    "\n",
    "Goal of this notebook is to build a tool for searching the [BDTNS](http://bdtns.filol.csic.es) data by signs, irrespective of their reading. For instance, the sign NE may be read bi₂, ne, izi, šeŋ₆, kum₂, lam₂, zah₂, etc. It is easy to search for transliteration (and/or metadata) in the [BDTNS](http://bdtns.filol.csic.es) search page, but there is currently no way to search for a sequence of signs. This is useful, in particular, in two situations. \n",
    "\n",
    "1. Sumerological transliteration conventions may differ quite substantially between different schools. Thus, lu₂ kin-gi₄-a, {lu₂}kin-gi₄-a, lu₂ kiŋ₂-gi₄-a and {lu₂}kiŋ₂-gi₄-a all represent the same sequence of signs and the same word (meaning 'messenger'), but without knowledge of the particular set of conventions used it may be difficult to guess which search will yield the desired results. In the sign search one may enter sign readings according to any convention recognized by the ORACC Global Sign List ([OGSL](http://oracc.org/ogsl)).\n",
    "\n",
    "2. In some cases the correct reading and interpretation of a sign sequence may be unclear and this ambiguiuty may have been resolved in different ways throughout the database. The names lugal-mudra₅, lugal-zuluhu₂ and lugal-siki-su₁₃ all represent the same sign sequence. Which of these is correct is not entirely clear (although the third seems unlikely) and, depending on the research question, may even be unimportant (for instance for social network analysis). In the sign search one may enter any of these forms and the results will include all of them.\n",
    "\n",
    "We will build this tool by combining the data from [BDTNS](http://bdtns.filol.csic.es), as prepared in the previous section, with data from the ORACC Global Sign List ([OGSL](http://oracc.org/ogsl)). The sign search is built here primarily as an example of the kinds of things one can do with data as produced in [2.4.1](2.4.1) (standardized and with proper separation between text data and non-text data).\n",
    "\n",
    "The code below will create an additional column for the [BDTNS](http://bdtns.filol.csic.es) data frame. This new column represents the same line of text, now as a sequence of sign names, ignoring flags (such as question marks, square brackets, etc.).\n",
    "\n",
    "Thus the line \n",
    "> \\[lu\\]kur-ki-ag₂ lugal \n",
    "\n",
    "is represented in the new column `sign_name` as \n",
    "\n",
    "> SAL ME KI |NINDA₂×NE| LUGAL\n",
    "\n",
    "In order to create this new column the code first downloads and parses the JSON zip file that contains all the [OGSL](http://oracc.org/ogsl) data. The result is a dictionary that provides for each sign reading (key) the corresponding sign name (value). We can query this dictionary for every single sign to create the `sign_name` column.\n",
    "\n",
    "Compound signs are dealt with in two different ways. Compound signs that consist of a simple sequence of primary signs are analyzed, and the primary signs are returned. Thus **lukur** in the example above returns SAL ME. Other types of compound signs (for instance one sign written into another one) are not analyzed. The sign name of ag₂ is |NINDA₂×NE| and that is what is returned.\n",
    "\n",
    "The same function that is used to transform a line of transliteration into a sequence of sign names is also used by the search engine for transforming the user input. User input is thus also transformed into a sequence of sign names, using the same [OGSL](http://oracc.org/ogsl) dictionary, and compound signs such as **lukur** are separated into their constituent signs (SAL ME). As a result, search for **lukur**, **sal-me**, or **munus išib** will all yield the same results.\n",
    "\n",
    "When searching for **sar-ki**, however, we should not find **sar kin**, in other words, the search should identify only full signs. In the `sign_name`column the sign names are separated from each other by spaces. By adding a space before and after each line in the `sign_name` column each individual sign is preceded and followed by a space, even when it appears at the beginning or the end of the line. The (transformed) search input is also put between spaces. Thus the search for \"sar-ki\" is transformed to \" SAR KI \", which does not match \" SAR KIN \"\n",
    "\n",
    "```{admonition} Regular Expressions: Look Ahead and Look Behind\n",
    ":class: tip, dropdown\n",
    "> A more common approach to the \"whole sign\" issue would be to add the regular expression \\\\b (\"word boundary\") before and after the input. However, this fails on sign names that begin and end with pipes (as in |NINDA₂×NE|), because the pipe is not considered a word character in regular expressions. It is possible to add look-behind and look-ahead regular expressions to take care of this issue. The expression would look like this: '(?:(?<=\\s)|(?<=^))'+signs+'(?=\\s|$') where `signs` represents the (transformed) search input. As it turns out, this works, but since look-behind and look-ahead expressions are relatively slow, it was decided to circumvent the problem with the extra spaces.\n",
    "```\n",
    "\n",
    "In the output the columns `id_text`, `label` (line number), and `text` are shown (not `sign_name`). By default, the search displays only the first 25 hits and the `id_text` (the [BDTNS](http://bdtns.filol.csic.es) number) is used to create a link to the online edition. \n",
    "\n",
    "```{margin}\n",
    "Widgets are pieces of software that can be used to create a Graphical User Interface and allow the user to interact with the script.\n",
    "```\n",
    "\n",
    "The search engine uses \"widgets\" to call the search function and display the results. "
   ]
  },
  {
   "cell_type": "markdown",
   "metadata": {},
   "source": [
    "## 2.4.2.0 Import Packages and create directories\n",
    "* requests: for communicating with a server over the internet\n",
    "* pandas: data analysis and manipulation; dataframes\n",
    "* re: Regular Expressions\n",
    "* tqdm: progress bar\n",
    "* os: basic Operating System tasks (such as creating a directory)\n",
    "* sys: change system parameters\n",
    "* utils: compass-specific utilities (download files from ORACC, etc.)\n",
    "* pickle: save data for future use\n",
    "* zipfile: read data from a zipped file"
   ]
  },
  {
   "cell_type": "code",
   "execution_count": 1,
   "metadata": {},
   "outputs": [],
   "source": [
    "import requests\n",
    "import pandas as pd\n",
    "#pd.set_option('display.max_rows', None)\n",
    "from tqdm.auto import tqdm  # tqdm.auto will activate the notebook version when called from a notebook\n",
    "tqdm.pandas() # initiate progress bars for pandas\n",
    "import os\n",
    "import sys\n",
    "import re\n",
    "import pickle\n",
    "import zipfile\n",
    "import json\n",
    "from ipywidgets import interact # User Interface for search\n",
    "import ipywidgets as widgets\n",
    "from IPython.display import display, clear_output\n",
    "os.makedirs('jsonzip', exist_ok = True)\n",
    "os.makedirs('output', exist_ok = True)"
   ]
  },
  {
   "cell_type": "markdown",
   "metadata": {},
   "source": [
    "## 2.4.2.1 Download the OGSL ZIP file\n",
    "The sign search uses the ORACC Global Sign List [OGSL](http://oracc.org/ogsl), available in JSON format at http://build-oracc.museum.upenn.edu/json/ogsl.zip. The function `oracc_download()` from the `utils` module downloads the JSON file in ZIP format. The function expects a list as its sole argument."
   ]
  },
  {
   "cell_type": "code",
   "execution_count": 2,
   "metadata": {},
   "outputs": [],
   "source": [
    "url = \"http://build-oracc.museum.upenn.edu/json/ogsl.zip\"\n",
    "file = \"jsonzip/ogsl.zip\"\n",
    "r = requests.get(url)\n",
    "with open(\"jsonzip/ogsl.zip\", 'wb') as f: \n",
    "    f.write(r.content)"
   ]
  },
  {
   "cell_type": "markdown",
   "metadata": {},
   "source": [
    "## 2.4.2.2 The parse_ogsl_json() function\n",
    "The function iterates through the JSON object. The output is a dictionary where each possible reading, listed in [OGSL](http://oracc.org/ogsl) is a key, the value is the sign name of that reading. For instance\n",
    "```python\n",
    "    {'u₄' : 'UD', \n",
    "     'ud' : 'UD', \n",
    "     'babbar' : 'UD'}\n",
    "```\n",
    "etc.\n",
    "\n",
    "In the process of parsing the JSON the sign list is adapted to reflect Ur III writing. Some signs that are distinguished in [OGSL](http://oracc.org/ogsl) coincided in the Ur III period. For instance, the signs NI₂ and IM, which are different in the Fara period, are the same in Ur III. Such signs are listed in the dictionary `equiv`, which is used in the `parse_ogsl_json()` function. When adding more signs to the dictionary, make sure to use the canonical sign names as defined in [OGSL](http://oracc.org/ogsl)."
   ]
  },
  {
   "cell_type": "code",
   "execution_count": 3,
   "metadata": {},
   "outputs": [],
   "source": [
    "equiv = {'ANŠE' : 'GIR₃', \n",
    "        'DUR₂' : 'KU', \n",
    "        'NAM₂' : 'TUG₂', \n",
    "        'TIL' : 'BAD', \n",
    "        'NI₂' : 'IM',\n",
    "        'ŠAR₂' : 'HI', \n",
    "        'ZI₃'  : 'EŠ₂'\n",
    "        }"
   ]
  },
  {
   "cell_type": "code",
   "execution_count": 4,
   "metadata": {},
   "outputs": [],
   "source": [
    "def parse_ogsl_json(data_json):\n",
    "    value2signname = {}\n",
    "    word = re.compile(r'\\w+') # replace whole words only - do not replace TILLA with BADLA.\n",
    "                           # but do replace |SAL.ANŠE| with |SAL.GIR₃|\n",
    "    for sign_name, sign_data in data_json[\"signs\"].items():\n",
    "        sign_name = re.sub(word, lambda m: equiv.get(m.group(), m.group()), sign_name)\n",
    "        if \"values\" in sign_data: # if a sign has no known readings, skip\n",
    "            for reading in sign_data[\"values\"]:\n",
    "                value2signname[reading] = sign_name\n",
    "    return value2signname"
   ]
  },
  {
   "cell_type": "markdown",
   "metadata": {},
   "source": [
    "## 2.4.2.3 Process the JSON\n",
    "In the main process the file `ogsl-sl.json` is extracted from the zip and made into a JSON object (with the `json.loads()` function). This object is sent to the `parsejson()` function defined above."
   ]
  },
  {
   "cell_type": "code",
   "execution_count": 5,
   "metadata": {},
   "outputs": [],
   "source": [
    "file = \"jsonzip/ogsl.zip\"\n",
    "zip_file = zipfile.ZipFile(file) \n",
    "filename = \"ogsl/ogsl-sl.json\"\n",
    "signlist = zip_file.read(filename).decode('utf-8')\n",
    "data_json = json.loads(signlist)                # make it into a json object (essentially a dictionary)\n",
    "value2signname = parse_ogsl_json(data_json)  \n",
    "with open('output/ogsl_dict.p', 'wb') as p:\n",
    "    pickle.dump(value2signname, p)  \n",
    "zip_file.close()"
   ]
  },
  {
   "cell_type": "markdown",
   "metadata": {},
   "source": [
    "## 2.4.2.4 Inspect the Results in Dataframe\n",
    "This DataFrame is only for inspection - it is not otherwise used in the code below."
   ]
  },
  {
   "cell_type": "code",
   "execution_count": 6,
   "metadata": {},
   "outputs": [
    {
     "data": {
      "text/html": [
       "<div>\n",
       "<style scoped>\n",
       "    .dataframe tbody tr th:only-of-type {\n",
       "        vertical-align: middle;\n",
       "    }\n",
       "\n",
       "    .dataframe tbody tr th {\n",
       "        vertical-align: top;\n",
       "    }\n",
       "\n",
       "    .dataframe thead th {\n",
       "        text-align: right;\n",
       "    }\n",
       "</style>\n",
       "<table border=\"1\" class=\"dataframe\">\n",
       "  <thead>\n",
       "    <tr style=\"text-align: right;\">\n",
       "      <th></th>\n",
       "      <th>Name</th>\n",
       "    </tr>\n",
       "  </thead>\n",
       "  <tbody>\n",
       "    <tr>\n",
       "      <th>gurun₇</th>\n",
       "      <td>DUG</td>\n",
       "    </tr>\n",
       "    <tr>\n",
       "      <th>lut</th>\n",
       "      <td>DUG</td>\n",
       "    </tr>\n",
       "    <tr>\n",
       "      <th>lutu</th>\n",
       "      <td>DUG</td>\n",
       "    </tr>\n",
       "    <tr>\n",
       "      <th>epig₂</th>\n",
       "      <td>DUG</td>\n",
       "    </tr>\n",
       "    <tr>\n",
       "      <th>ebir</th>\n",
       "      <td>DUG</td>\n",
       "    </tr>\n",
       "    <tr>\n",
       "      <th>duq</th>\n",
       "      <td>DUG</td>\n",
       "    </tr>\n",
       "    <tr>\n",
       "      <th>duka</th>\n",
       "      <td>DUG</td>\n",
       "    </tr>\n",
       "    <tr>\n",
       "      <th>duk</th>\n",
       "      <td>DUG</td>\n",
       "    </tr>\n",
       "    <tr>\n",
       "      <th>epir</th>\n",
       "      <td>DUG</td>\n",
       "    </tr>\n",
       "    <tr>\n",
       "      <th>kurin</th>\n",
       "      <td>DUG</td>\n",
       "    </tr>\n",
       "    <tr>\n",
       "      <th>kurun₃</th>\n",
       "      <td>DUG</td>\n",
       "    </tr>\n",
       "    <tr>\n",
       "      <th>liṭ₂</th>\n",
       "      <td>DUG</td>\n",
       "    </tr>\n",
       "    <tr>\n",
       "      <th>lud</th>\n",
       "      <td>DUG</td>\n",
       "    </tr>\n",
       "    <tr>\n",
       "      <th>lum₃</th>\n",
       "      <td>DUG</td>\n",
       "    </tr>\n",
       "    <tr>\n",
       "      <th>lumu₃</th>\n",
       "      <td>DUG</td>\n",
       "    </tr>\n",
       "    <tr>\n",
       "      <th>dug</th>\n",
       "      <td>DUG</td>\n",
       "    </tr>\n",
       "    <tr>\n",
       "      <th>qaptu</th>\n",
       "      <td>DUGUD</td>\n",
       "    </tr>\n",
       "    <tr>\n",
       "      <th>ŋi₂₅</th>\n",
       "      <td>DUGUD</td>\n",
       "    </tr>\n",
       "    <tr>\n",
       "      <th>kaptu</th>\n",
       "      <td>DUGUD</td>\n",
       "    </tr>\n",
       "    <tr>\n",
       "      <th>dukudₓ</th>\n",
       "      <td>DUGUD</td>\n",
       "    </tr>\n",
       "    <tr>\n",
       "      <th>duguda</th>\n",
       "      <td>DUGUD</td>\n",
       "    </tr>\n",
       "    <tr>\n",
       "      <th>dugud</th>\n",
       "      <td>DUGUD</td>\n",
       "    </tr>\n",
       "    <tr>\n",
       "      <th>duguₓ</th>\n",
       "      <td>DUGUD</td>\n",
       "    </tr>\n",
       "    <tr>\n",
       "      <th>gi₂₅</th>\n",
       "      <td>DUGUD</td>\n",
       "    </tr>\n",
       "    <tr>\n",
       "      <th>duh</th>\n",
       "      <td>DUH</td>\n",
       "    </tr>\n",
       "  </tbody>\n",
       "</table>\n",
       "</div>"
      ],
      "text/plain": [
       "         Name\n",
       "gurun₇    DUG\n",
       "lut       DUG\n",
       "lutu      DUG\n",
       "epig₂     DUG\n",
       "ebir      DUG\n",
       "duq       DUG\n",
       "duka      DUG\n",
       "duk       DUG\n",
       "epir      DUG\n",
       "kurin     DUG\n",
       "kurun₃    DUG\n",
       "liṭ₂      DUG\n",
       "lud       DUG\n",
       "lum₃      DUG\n",
       "lumu₃     DUG\n",
       "dug       DUG\n",
       "qaptu   DUGUD\n",
       "ŋi₂₅    DUGUD\n",
       "kaptu   DUGUD\n",
       "dukudₓ  DUGUD\n",
       "duguda  DUGUD\n",
       "dugud   DUGUD\n",
       "duguₓ   DUGUD\n",
       "gi₂₅    DUGUD\n",
       "duh       DUH"
      ]
     },
     "execution_count": 6,
     "metadata": {},
     "output_type": "execute_result"
    }
   ],
   "source": [
    "ogsl = pd.DataFrame.from_dict(value2signname, orient='index', columns = [\"Name\"]).sort_values(by = 'Name')\n",
    "ogsl[1000:1025]"
   ]
  },
  {
   "cell_type": "markdown",
   "metadata": {},
   "source": [
    "## 2.4.2.5 Open BDTNS Data\n",
    "We can now open the dataframe with the [BDTNS](http://bdtns.filol.csic.es) transliterations. This dataframe was pickled in notebook [2_4_1_Data_Acquisition_BDTNS.ipynb](./2_4_1_Data_Acquisition_BDTNS.ipynb). The dataframe has five fields: `id_text` (the [BDTNS](http://bdtns.filol.csic.es) number of a document), `id_line` (a continuous line numbering that starts at 1 for each new document; integer), `label` (the regular, human legible [BDTNS](http://bdtns.filol.csic.es) line number), `text` (the transliteration of the line) and `comments` (any comments added to the line in [BDTNS](http://bdtns.filol.csic.es))."
   ]
  },
  {
   "cell_type": "code",
   "execution_count": 7,
   "metadata": {},
   "outputs": [
    {
     "data": {
      "text/html": [
       "<div>\n",
       "<style scoped>\n",
       "    .dataframe tbody tr th:only-of-type {\n",
       "        vertical-align: middle;\n",
       "    }\n",
       "\n",
       "    .dataframe tbody tr th {\n",
       "        vertical-align: top;\n",
       "    }\n",
       "\n",
       "    .dataframe thead th {\n",
       "        text-align: right;\n",
       "    }\n",
       "</style>\n",
       "<table border=\"1\" class=\"dataframe\">\n",
       "  <thead>\n",
       "    <tr style=\"text-align: right;\">\n",
       "      <th></th>\n",
       "      <th>id_text</th>\n",
       "      <th>id_line</th>\n",
       "      <th>label</th>\n",
       "      <th>text</th>\n",
       "      <th>comments</th>\n",
       "    </tr>\n",
       "  </thead>\n",
       "  <tbody>\n",
       "    <tr>\n",
       "      <th>0</th>\n",
       "      <td>203551</td>\n",
       "      <td>1</td>\n",
       "      <td>o. 1</td>\n",
       "      <td>1 nu-dib Lugal-⌈x⌉ [...]</td>\n",
       "      <td></td>\n",
       "    </tr>\n",
       "    <tr>\n",
       "      <th>1</th>\n",
       "      <td>203551</td>\n",
       "      <td>2</td>\n",
       "      <td>o. 2</td>\n",
       "      <td>1 nu-dib A-a-kal-la dum[u ...] / AN? [...]</td>\n",
       "      <td></td>\n",
       "    </tr>\n",
       "    <tr>\n",
       "      <th>2</th>\n",
       "      <td>203551</td>\n",
       "      <td>3</td>\n",
       "      <td>o. 3</td>\n",
       "      <td>1 nu-dib Lu₂-{d}Šara₂ [dumu] / Lugal-{d}Iš[tar...</td>\n",
       "      <td>(= K[A.DI?])</td>\n",
       "    </tr>\n",
       "    <tr>\n",
       "      <th>3</th>\n",
       "      <td>203551</td>\n",
       "      <td>4</td>\n",
       "      <td>o. 4</td>\n",
       "      <td>--- Lu₂-Ib-gal dumu Ur-⌈x⌉-[...]</td>\n",
       "      <td>(1 nu-dib erased)</td>\n",
       "    </tr>\n",
       "    <tr>\n",
       "      <th>4</th>\n",
       "      <td>203551</td>\n",
       "      <td>5</td>\n",
       "      <td>o. 5</td>\n",
       "      <td>1 nu-dib Lu₂-uru-bar-ra dumu ⌈Nam⌉-ha-ni / sagi</td>\n",
       "      <td></td>\n",
       "    </tr>\n",
       "  </tbody>\n",
       "</table>\n",
       "</div>"
      ],
      "text/plain": [
       "  id_text  id_line label                                               text  \\\n",
       "0  203551        1  o. 1                           1 nu-dib Lugal-⌈x⌉ [...]   \n",
       "1  203551        2  o. 2         1 nu-dib A-a-kal-la dum[u ...] / AN? [...]   \n",
       "2  203551        3  o. 3  1 nu-dib Lu₂-{d}Šara₂ [dumu] / Lugal-{d}Iš[tar...   \n",
       "3  203551        4  o. 4                  --- Lu₂-Ib-gal dumu Ur-⌈x⌉-[...]    \n",
       "4  203551        5  o. 5    1 nu-dib Lu₂-uru-bar-ra dumu ⌈Nam⌉-ha-ni / sagi   \n",
       "\n",
       "             comments  \n",
       "0                      \n",
       "1                      \n",
       "2        (= K[A.DI?])  \n",
       "3   (1 nu-dib erased)  \n",
       "4                      "
      ]
     },
     "execution_count": 7,
     "metadata": {},
     "output_type": "execute_result"
    }
   ],
   "source": [
    "file = 'output/bdtns.p'\n",
    "bdtns = pd.read_pickle(file)\n",
    "bdtns.head()"
   ]
  },
  {
   "cell_type": "markdown",
   "metadata": {},
   "source": [
    "## 2.4.2.6 Tokenizing Signs\n",
    "In order to search by sign, we need to tokenize signs in the transliteration column (`text`) while ignoring elements such as question marks or (half-) brackets. First step is to define different types of separators, and flags that may be present in the text or in the sign name. The most common separators are space and hyphen. Curly brackets are placed around determinatives (semantic classifiers), as in {d}En-lil₂ (\"the god Enlil\"). Curly brackets and hyphens will be replaced by spaces. The separators in `separators2` are used in compound signs, as in |SI.A|, or |ŠU+NIGIN|. Operators, finally, are also used in compound signs and indicate how the signs are written in relation to each other (on top of each other, one inside the other, etc.). Compound signs that represent a sequence of simple signs (|SI.A| for **dirig** or |A.TU.GAB.LIŠ| for **asal₂**) will be decomposed in their component signs. Compound signs of the type |KA×GAR| (for **gu₇**) are not analyzed, but their component parts are aligned with [OGSL](http://oracc.org/ogsl) practices (that is |KA×NINDA| will be re-written as |KA×GAR|, because in [OGSL](http://oracc.org/ogsl) GAR is the name of the sign that can be read **ninda** or **gar**).\n",
    "\n",
    "Finally the flags include various characters that may appear in the transliteration but will be ignored in the search. A search for `ninda`, therefore, will find `ninda`, `[nin]da`, `ninda?`, etc., as well as `gar`, `⸢gar⸣`, `gar!(SIG)`, etc. (but not `nagar`, see below).\n",
    "\n",
    "The variable `flags2none` represents a table in which each character in `flags` corresponds to `None`. This is used by the `translate()` method; see below."
   ]
  },
  {
   "cell_type": "code",
   "execution_count": 8,
   "metadata": {},
   "outputs": [],
   "source": [
    "separators = ['{', '}', '-']\n",
    "separators2 = ['.', '+', '|']  # used in compound signs\n",
    "#operators = ['&', '%', '@', '×']\n",
    "flags = \"][?<>⸢⸣⌈⌉*/\" # note that ! is omitted from flags, because it is dealt with separately\n",
    "flags2none = str.maketrans(dict.fromkeys(flags))"
   ]
  },
  {
   "cell_type": "code",
   "execution_count": 9,
   "metadata": {},
   "outputs": [],
   "source": [
    "def translit_to_signnames(translit):  \n",
    "    \"\"\"This function takes a string of transliterated cuneiform text (in any transliteration style) and translates that string into a string of\n",
    "    sign names, separated by spaces. In order to work it needs the variables separators, separators2, and flags2none defined above. The variable flags2none\n",
    "    is used by the translate() method to translate all flags (except for !) to None. The function also needs a dictionary, called value2signname, that has as\n",
    "    keys sign readings and sign names as corresponding values. In case a key is not found, the sign reading is replaced by itself.\"\"\"\n",
    "    signnames_l = []\n",
    "    translit = translit.translate(flags2none).lower()  # remove flags, half brackets, square brackets.\n",
    "    translit = translit.replace('...', 'x')\n",
    "    for separator in separators: # split transliteration line into signs   \n",
    "        translit = translit.replace(separator, ' ').strip()\n",
    "    signs_cleaned = translit.split() # signs_cleaned is a list that contains the sequence of transliterated signs without separators or flags\n",
    "    signs_cleaned = [value2signname.get(sign, sign) for sign in signs_cleaned] # replace each transliterated sign with its sign name.\n",
    "    # Now take care of some special situations: signs with qualifiers, compound signs.\n",
    "    for sign in signs_cleaned:\n",
    "        if '!' in sign: # corrected sign, as in ka!(SAG), get only the corrected reading.\n",
    "            sign = sign.split('!(')[0]\n",
    "            sign = sign.replace('!', '') # remove remaining exclamation marks\n",
    "        elif sign[-1] == ')' and '(' in sign: # qualified sign, as in ziₓ(SIG₇) - get only the qualifier\n",
    "            sign = sign.split('(')[1][:-1]\n",
    "        if '×' in sign: #compound. Compound like |KA×NINDA| to be replaced by |KA×GAR|\n",
    "            sign_l = sign.replace('|', '').split('×')\n",
    "            #replace individual signs of the compound by OGSL names\n",
    "            sign_l = [value2signname.get(sign, sign) for sign in sign_l] \n",
    "            # if user enters |KA*EŠ| this is transformed to ['KA', '|U.U.U|']. The pipes around U.U.U must be replaced by brackets\n",
    "            sign_l = [f'({sign[1:-1]})' if len(sign) > 1 and sign[0] == '|' else sign for sign in sign_l]\n",
    "            sign = f\"|{'×'.join(sign_l)}|\"  #put the sign together again with enclosing pipes.\n",
    "        elif '.' in sign or '+' in sign: # using elif, so that compounds like |UD×(U.U.U)| are not further analyzed.\n",
    "            for separator in separators2:\n",
    "                sign = sign.replace(separator, ' ').strip() \n",
    "            sign_l = sign.split()  # compound sign split into multiple signs\n",
    "            sign_l = [value2signname.get(sign, sign) for sign in sign_l]\n",
    "            signnames_l.extend(sign_l)\n",
    "            continue\n",
    "        sign = value2signname.get(sign, sign)\n",
    "        signnames_l.append(sign)\n",
    "    # add space before and after each line so that each sign representation is enclosed in spaces\n",
    "    signnames = f\" {' '.join(signnames_l).upper()} \" \n",
    "    return signnames"
   ]
  },
  {
   "cell_type": "markdown",
   "metadata": {},
   "source": [
    "The function `translit_to_signnames()` is called for every row in the `bdtns` dataframe with the `map()` function. The output is stored in a new column of that same dataframe called `sign_names`. The function `progress_map()` adds a progress bar to the regular `map()` function; `progress_map()` is activated by `tqdm.pandas()` in the first cell of this notebook.\n",
    "\n",
    "After running this cell the `bdtns` dataframe will have a column `sign_names` that represents a single line of text as a sequence of sign names as in \" KI UR AN EN KID TA \" (for ki ur-{d}en-lil₂-ta)."
   ]
  },
  {
   "cell_type": "code",
   "execution_count": 10,
   "metadata": {},
   "outputs": [
    {
     "data": {
      "application/vnd.jupyter.widget-view+json": {
       "model_id": "cb21d3532da24caf858f9e542a82ae6e",
       "version_major": 2,
       "version_minor": 0
      },
      "text/plain": [
       "  0%|          | 0/1162517 [00:00<?, ?it/s]"
      ]
     },
     "metadata": {},
     "output_type": "display_data"
    }
   ],
   "source": [
    "bdtns[\"sign_names\"] = bdtns[\"text\"].progress_map(translit_to_signnames)"
   ]
  },
  {
   "cell_type": "markdown",
   "metadata": {},
   "source": [
    "## 2.4.2.7 Adding Metadata\n",
    "Open the [BDTNS](http://bdtns.filol.csic.es) catalog DataFrame (pickled in section [2.4.1.5.1](2.4.1.5.1) and add provenance, date, and publication to each row."
   ]
  },
  {
   "cell_type": "code",
   "execution_count": 11,
   "metadata": {},
   "outputs": [],
   "source": [
    "p = 'output/bdtns_cat.p'\n",
    "cat_df = pd.read_pickle(p)\n",
    "date_d = dict(zip(cat_df['id_text'], cat_df['date']))\n",
    "prov_d = dict(zip(cat_df['id_text'], cat_df['provenance']))\n",
    "publ_d = dict(zip(cat_df['id_text'], cat_df['publication']))\n",
    "bdtns['provenance'] = [prov_d.get(idt, '') for idt in bdtns['id_text']]\n",
    "bdtns['date'] = [date_d.get(idt, '') for idt in bdtns['id_text']]\n",
    "bdtns['publication'] = [publ_d.get(idt, '') for idt in bdtns['id_text']]"
   ]
  },
  {
   "cell_type": "code",
   "execution_count": 12,
   "metadata": {},
   "outputs": [],
   "source": [
    "bdtns.to_pickle('output/bdtns_tokenized.p')"
   ]
  },
  {
   "cell_type": "markdown",
   "metadata": {},
   "source": [
    "## 2.4.2.8 The Search Function\n",
    "The search function takes as input any style of transliteration recognized in [OGSL](http://orac.org/ogsl) in upper or lower case (see the search instructions below).  \n",
    "\n",
    "The search engine will find any matching sequence of signs, independent of the transliteration, thus 'nig2 sig' will also find 'ninda sig' or 'nig2-sig' or 'gar-sig' etc.\n",
    "\n",
    "The search results are listed in a DataFrame with links to the [BDTNS](http://bdtns.filol.csic.es) pages of the matching texts."
   ]
  },
  {
   "cell_type": "code",
   "execution_count": 13,
   "metadata": {},
   "outputs": [],
   "source": [
    "digits = '0123456789x'\n",
    "indexes = '₀₁₂₃₄₅₆₇₈₉ₓ'\n",
    "input_char = '{}-cjĝ*'\n",
    "translate_to = '   šŋŋ×'\n",
    "index = str.maketrans(digits, indexes)\n",
    "char = str.maketrans(input_char, translate_to)\n",
    "ind = re.compile(r'[a-zŋḫṣšṭA-ZŊḪṢŠṬ][0-9x]{1,2}') # regular expression for a letter\n",
    "                                                   # followed immediately by one or two digits or x\n",
    "anchor = '<a href=\"http://bdtns.filol.csic.es/{}\", target=\"_blank\">{}</a>'"
   ]
  },
  {
   "cell_type": "code",
   "execution_count": 14,
   "metadata": {},
   "outputs": [],
   "source": [
    "def search(Search, Max_hits, Links, Sortby = 'id_text'): \n",
    "    search_term = Search.lower().replace('sz', 'š').translate(char).strip() # replace sz by š; translate c, j, ĝ, and * to š, ŋ, ŋ, and ×, respectively.\n",
    "    search_term = re.sub(ind, lambda m: m.group().translate(index), search_term) #translate regular numbers (and x) to index numbers\n",
    "    search_term = translit_to_signnames(search_term)  # replace a sequence of transliterated signs by a sequence of sign names\n",
    "    search_term_esc = re.escape(search_term) # use escapes for characters that have special meaning in regular expressions\n",
    "    search_term_esc = search_term_esc.replace('\\ X\\ ', '(?:\\ [^ ]+)*\\ ') # use X (preceded and followed by space) as wild card for any sequence of signs\n",
    "    show = ['id_text', 'label', 'text', 'provenance', 'date', 'publication']\n",
    "    results = bdtns.loc[bdtns['sign_names'].str.contains(search_term_esc, regex=True), show].copy() # this is the actual search command\n",
    "    hits = len(results)\n",
    "    if Max_hits > hits: \n",
    "        Max_hits = hits \n",
    "    if hits == 1:\n",
    "        pl = ''\n",
    "    else:\n",
    "        pl = 's'\n",
    "    print(search_term), print(f\"{str(hits)} hit{pl}; {str(Max_hits)} displayed.\")\n",
    "    results = results.sort_values(by = Sortby)[:Max_hits]\n",
    "    if Links:\n",
    "        results['id_text'] = [anchor.format(val,val) for val in results['id_text']]\n",
    "        results = results.style.hide_index().set_properties(subset=['publication'], **{'width': '200px'})\n",
    "    return results"
   ]
  },
  {
   "cell_type": "markdown",
   "metadata": {},
   "source": [
    "## 2.4.2.9. Creating a User Interface\n",
    "The user interface is created with widgets from the package `ipywidgets`. Widgets are pieces of software that allow a user to interact with functions through text boxes, sliders, buttons, drop-down menus, check boxes, etc.\n",
    "\n",
    "The widgets used here are\n",
    "- Button - when clicked, the search function is called\n",
    "- Text - a text box in which the user may enter a sequence of signs; after hitting ENTER (or clicking the Search button) the search function is called\n",
    "- BoundIntText - a text box that indicates the maximum number of hits (default is 25)\n",
    "- Checkbox - when checked (default) the search results display active links to BDTNS pages. When maximum hits is set to larger than 250 the default becomes unchecked.\n",
    "- Dropdown - a drop-down menu for arranging the search results by different columns.\n",
    "\n",
    "In addition, a number of special widgets are used, namely \n",
    "- Vbox, for displaying widgets vertically\n",
    "- Hbox, for displaying widgets horizontally\n",
    "- Output, an area where the search output is displayed\n",
    "\n",
    "The code for each widget consists of several parts. First, the widget is called with various parameters, such as its default value, or the text that is to appear on a button. Second is a function that defines what happens when the button is clicked, or when the user hits the ENTER button. Third, a method for each of the widgets defines what event will trigger the function. For the button it is the event `on_click`, for the text box it is `on_submit` (that is, when the user hits ENTER); the other three widgets listen for a change in value with the `observe` method. Finally, the VBox and HBox widgets define the layout. "
   ]
  },
  {
   "cell_type": "markdown",
   "metadata": {},
   "source": [
    "### 2.4.2.9.1 The User interface"
   ]
  },
  {
   "cell_type": "code",
   "execution_count": 15,
   "metadata": {},
   "outputs": [],
   "source": [
    "# Creating a User Interface\n",
    "button = widgets.Button(description='Search')\n",
    "text = widgets.Text(\n",
    "       value='',\n",
    "       description='', )\n",
    "maxhits = widgets.BoundedIntText(\n",
    "        value=25,\n",
    "        min=0,\n",
    "        max=len(bdtns),\n",
    "        step=1,\n",
    "        description='Max hits:',\n",
    "        continuous_update = True)\n",
    "links = widgets.Checkbox(\n",
    "    value=True,\n",
    "    indent = False,\n",
    "    description='Display Links')\n",
    "sortby = widgets.Dropdown(\n",
    "    options = ['id_text', 'text', 'date', 'provenance', 'publication'],\n",
    "    value = 'id_text',\n",
    "    description = 'Sort By: ')\n",
    "out = widgets.Output()"
   ]
  },
  {
   "cell_type": "markdown",
   "metadata": {},
   "source": [
    "### 2.4.2.9.2 Calling the search function."
   ]
  },
  {
   "cell_type": "code",
   "execution_count": 16,
   "metadata": {},
   "outputs": [],
   "source": [
    "def submit_search(change):\n",
    "      # \"linking function with output\"\n",
    "        with out:\n",
    "          # what happens when we press the button\n",
    "            clear_output()\n",
    "            display(search(text.value, maxhits.value, links.value, sortby.value))"
   ]
  },
  {
   "cell_type": "markdown",
   "metadata": {},
   "source": [
    "### 2.4.2.9.3 Link User Interface with the search function."
   ]
  },
  {
   "cell_type": "code",
   "execution_count": 17,
   "metadata": {},
   "outputs": [],
   "source": [
    "# when maxhits is set larger than 250, default becomes no links\n",
    "def update_maxhits(change):\n",
    "    links.value = maxhits.value < 250\n",
    "    submit_search(change)\n",
    "# linking button to search function the button's method\n",
    "button.on_click(submit_search)\n",
    "# linking text box to search function - called when user hits ENTER.\n",
    "text.on_submit(submit_search)\n",
    "# linking drop-down menu and search function - called when the value of the drop-down menu changes\n",
    "sortby.observe(submit_search, 'value')\n",
    "# linking the maximum hits box and search function - called when the value changes\n",
    "maxhits.observe(update_maxhits, 'value')"
   ]
  },
  {
   "cell_type": "markdown",
   "metadata": {},
   "source": [
    "### 2.4.2.9.4 Layout of User Interface and output."
   ]
  },
  {
   "cell_type": "code",
   "execution_count": 18,
   "metadata": {},
   "outputs": [
    {
     "data": {
      "application/vnd.jupyter.widget-view+json": {
       "model_id": "9b75e905f14c435cbf7b673454335ce9",
       "version_major": 2,
       "version_minor": 0
      },
      "text/plain": [
       "VBox(children=(HBox(children=(VBox(children=(Text(value=''), Checkbox(value=True, description='Display Links',…"
      ]
     },
     "metadata": {},
     "output_type": "display_data"
    }
   ],
   "source": [
    "# displaying the widgets and output together\n",
    "col1 = widgets.VBox([text, links, button]) # first column: text box, checkbox, and button\n",
    "col2 = widgets.VBox([maxhits, sortby]) # second column: Maximum Hits and drop-down menu.\n",
    "box = widgets.HBox([col1, col2]) # put first and second column next to each other in a row\n",
    "widgets.VBox([box,out]) # add ouput below the widgets."
   ]
  },
  {
   "cell_type": "markdown",
   "metadata": {},
   "source": [
    "## 2.4.2.10 Alternative Interface\n",
    "The following alterative interface is much simpler in its coding (essentially letting the `interact` function do all the work). To be useful, this interface requires a fairly fast machine because the search will update live while you type. The interface uses the same search function as above, so search instructions and results are the same."
   ]
  },
  {
   "cell_type": "code",
   "execution_count": 19,
   "metadata": {},
   "outputs": [
    {
     "data": {
      "application/vnd.jupyter.widget-view+json": {
       "model_id": "835f996b904248538cd8494d20b254e5",
       "version_major": 2,
       "version_minor": 0
      },
      "text/plain": [
       "interactive(children=(Text(value='', description='Search'), BoundedIntText(value=25, continuous_update=True, d…"
      ]
     },
     "metadata": {},
     "output_type": "display_data"
    }
   ],
   "source": [
    "interact(search, Search = '',\n",
    "        Max_hits = widgets.BoundedIntText(\n",
    "        value=25,\n",
    "        min=0,\n",
    "        max=len(bdtns),\n",
    "        step=1,\n",
    "        description='Max hits:',\n",
    "        continuous_update = True), \n",
    "        Links = True, \n",
    "        Sortby = ['id_text', 'text', 'date', 'provenance', 'publication'] );"
   ]
  },
  {
   "cell_type": "markdown",
   "metadata": {},
   "source": [
    "## 2.4.2.11 Search Instructions\n",
    "\n",
    "Search for a sequence of sign values in any transliteration system recognized by [OGSL](http://oracc.org/ogsl). Thus, sugal₇, sukkal, or luh, in upper or lower case will all return the same results.\n",
    "\n",
    "- Determinatives (semantic classifiers) may be entered between curly brackets or as regular signs. Thus, gesz taškarin, gesz-taskarin, {ŋesz}taskarin, and {ŋeš}tug₂ will all yield the same results. \n",
    "\n",
    "- Signs may be connected with spaces or hyphens.\n",
    "\n",
    "- The Shin may be represented by š, c, or sz in upper or lower case; nasal g may be represented as j, ŋ, or ĝ.\n",
    "\n",
    "- Sign index numbers may be represented by regular numbers or by index numbers (e₂ or e2, but not é).\n",
    "\n",
    "- Compound signs (such as diri) are resolved in their component signs if the compound represents a simple sequence of signs. Thus diri is resolved as SI A, but gu₇ is resolved as |KA×GAR|.\n",
    "\n",
    "- To search for a compound sign by sign name, enter it between pipes (|). The \"times\" sign may be represented by \\* (enter |UR₂×A| or |UR₂\\*A|, but not |URxA|).\n",
    "\n",
    "- Wildcard: x or X, represents any number of signs in between (e.g. ku6-x-muszen will find all lines where HA is followed by HU with zero or more signs in between).\n",
    "\n",
    "- For large numbers of hits, the clickable links to [BDTNS](http://bdtns.filol.csic.es/) editions will make display very slow. Unclick the check box to display [BDTNS](http://bdtns.filol.csic.es/) numbers only, without links. Setting the number of hits higher than 250 will change the default to no links.\n",
    "\n",
    "- The results may be ordered by text, provenance, date, id_text (the default) or publication (use the drop-down menu). Note that dates are sorted alphabetically, so that Amar-Suen dates preceded Shulgi dates."
   ]
  },
  {
   "cell_type": "code",
   "execution_count": null,
   "metadata": {},
   "outputs": [],
   "source": []
  }
 ],
 "metadata": {
  "kernelspec": {
   "display_name": "Python 3",
   "language": "python",
   "name": "python3"
  },
  "language_info": {
   "codemirror_mode": {
    "name": "ipython",
    "version": 3
   },
   "file_extension": ".py",
   "mimetype": "text/x-python",
   "name": "python",
   "nbconvert_exporter": "python",
   "pygments_lexer": "ipython3",
   "version": "3.8.8"
  }
 },
 "nbformat": 4,
 "nbformat_minor": 4
}